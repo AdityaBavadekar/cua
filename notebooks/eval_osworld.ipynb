{
 "cells": [
  {
   "cell_type": "markdown",
   "metadata": {},
   "source": [
    "# ComputerAgent HUD Integration for OSWorld\n",
    "\n",
    "This notebook demonstrates how to use the ComputerAgent with HUD for OSWorld benchmarking.\n",
    "The ComputerAgent integration provides the same interface as OperatorAgent but works with both Claude and OpenAI models."
   ]
  },
  {
   "cell_type": "code",
   "execution_count": null,
   "metadata": {},
   "outputs": [],
   "source": [
    "# # Install dependencies if needed\n",
    "# !uv venv \n",
    "# !source .venv/bin/activate\n",
    "# !uv sync"
   ]
  },
  {
   "cell_type": "code",
   "execution_count": 1,
   "metadata": {},
   "outputs": [],
   "source": [
    "%load_ext autoreload\n",
    "%autoreload 2"
   ]
  },
  {
   "cell_type": "code",
   "execution_count": 2,
   "metadata": {},
   "outputs": [],
   "source": [
    "# Required environment variables:\n",
    "# - HUD_API_KEY (for HUD access)\n",
    "# - ANTHROPIC_API_KEY (for Claude models)\n",
    "# - OPENAI_API_KEY (for OpenAI models)\n",
    "\n",
    "from hud import gym, load_taskset\n",
    "from pprint import pprint\n",
    "import asyncio"
   ]
  },
  {
   "cell_type": "code",
   "execution_count": 3,
   "metadata": {},
   "outputs": [
    {
     "name": "stderr",
     "output_type": "stream",
     "text": [
      "/Users/dillondupont/cua-clean/.venv/lib/python3.12/site-packages/tqdm/auto.py:21: TqdmWarning: IProgress not found. Please update jupyter and ipywidgets. See https://ipywidgets.readthedocs.io/en/stable/user_install.html\n",
      "  from .autonotebook import tqdm as notebook_tqdm\n"
     ]
    }
   ],
   "source": [
    "# Import the HUD-integrated ComputerAgent\n",
    "from agent.integrations.hud import ComputerAgent"
   ]
  },
  {
   "cell_type": "code",
   "execution_count": 5,
   "metadata": {},
   "outputs": [
    {
     "name": "stdout",
     "output_type": "stream",
     "text": [
      "Total tasks in OSWorld: 367\n",
      "Task prompt: Can you make my computer bring back the last tab I shut down?\n"
     ]
    }
   ],
   "source": [
    "# Load OSWorld taskset\n",
    "taskset = await load_taskset(\"OSWorld-Verified\")\n",
    "print(f\"Total tasks in OSWorld: {len(taskset)}\")\n",
    "\n",
    "# Select a test task\n",
    "test = taskset[148]\n",
    "print(f\"Task prompt: {test.prompt}\")"
   ]
  },
  {
   "cell_type": "code",
   "execution_count": 4,
   "metadata": {},
   "outputs": [
    {
     "name": "stdout",
     "output_type": "stream",
     "text": [
      "Total tasks in SheetBench: 50\n",
      "Task prompt: Given the Input data, determine the ticker with the greatest correlation between volume and next day price change.\n",
      "- in ANSWER tab put the Ticker in A1 and the correlation in B1\n",
      "  - use CORREL to determine correlation\n",
      "- be sure to first sort the date by ticker z to a and then date ascending before calculating nextdaypricechange %\n",
      "Correlation should be rounded to 2 decimal points\n"
     ]
    }
   ],
   "source": [
    "# Load SheetBench taskset\n",
    "taskset = await load_taskset(\"SheetBench-V2\")\n",
    "print(f\"Total tasks in SheetBench: {len(taskset)}\")\n",
    "\n",
    "# Select a test task\n",
    "test = taskset[0]\n",
    "print(f\"Task prompt: {test.prompt}\")"
   ]
  },
  {
   "cell_type": "code",
   "execution_count": 5,
   "metadata": {},
   "outputs": [
    {
     "name": "stderr",
     "output_type": "stream",
     "text": [
      "[INFO] 2025-08-08 15:16:46,133 | hud.environment | View the live trace at https://app.hud.so/trace/662fd59f-5a8d-4205-9b88-32c00d0feab0\n"
     ]
    },
    {
     "name": "stdout",
     "output_type": "stream",
     "text": [
      "Environment ready!\n"
     ]
    }
   ],
   "source": [
    "# Create environment (takes ~2.5 minutes to start)\n",
    "env = await gym.make(test)\n",
    "print(\"Environment ready!\")"
   ]
  },
  {
   "cell_type": "code",
   "execution_count": 6,
   "metadata": {},
   "outputs": [
    {
     "data": {
      "text/html": [
       "\n",
       "    <div style=\"width: 960px; height: 540px; overflow: hidden;\">\n",
       "        <div style=\"transform: scale(0.5); transform-origin: top left;\">\n",
       "            <iframe src=\"https://live.anchorbrowser.io?sessionId=7486a5f7-d7eb-458e-b1b1-a11852e0e217\" width=\"1920\" height=\"1080\" style=\"border: 1px solid #ddd;\">\n",
       "            </iframe>\n",
       "        </div>\n",
       "    </div>\n",
       "    "
      ],
      "text/plain": [
       "<IPython.core.display.HTML object>"
      ]
     },
     "metadata": {},
     "output_type": "display_data"
    },
    {
     "data": {
      "text/plain": [
       "'\\n    <div style=\"width: 960px; height: 540px; overflow: hidden;\">\\n        <div style=\"transform: scale(0.5); transform-origin: top left;\">\\n            <iframe src=\"https://live.anchorbrowser.io?sessionId=7486a5f7-d7eb-458e-b1b1-a11852e0e217\" width=\"1920\" height=\"1080\" style=\"border: 1px solid #ddd;\">\\n            </iframe>\\n        </div>\\n    </div>\\n    '"
      ]
     },
     "execution_count": 6,
     "metadata": {},
     "output_type": "execute_result"
    }
   ],
   "source": [
    "await env.stream() # vnc"
   ]
  },
  {
   "cell_type": "markdown",
   "metadata": {},
   "source": [
    "## Test with Claude Model\n",
    "\n",
    "The ComputerAgent can use Claude models just like the original ClaudeAgent:"
   ]
  },
  {
   "cell_type": "code",
   "execution_count": 7,
   "metadata": {},
   "outputs": [
    {
     "name": "stdout",
     "output_type": "stream",
     "text": [
      "Created Claude agent: computeragent-claude-3-5-sonnet-20241022\n"
     ]
    }
   ],
   "source": [
    "import logging\n",
    "# Create ComputerAgent with Claude\n",
    "claude_agent = ComputerAgent(\n",
    "    model=\"anthropic/claude-3-5-sonnet-20241022\",\n",
    "    environment=\"linux\",  # OSWorld typically uses Linux\n",
    "    verbosity=logging.INFO,\n",
    ")\n",
    "\n",
    "print(f\"Created Claude agent: {claude_agent.name}\")"
   ]
  },
  {
   "cell_type": "code",
   "execution_count": 8,
   "metadata": {},
   "outputs": [
    {
     "name": "stdout",
     "output_type": "stream",
     "text": [
      "Initial observation complete\n",
      "========= Step 1 ==========\n"
     ]
    },
    {
     "name": "stderr",
     "output_type": "stream",
     "text": [
      "2025-08-08 15:17:04,030 - agent.ComputerAgent - INFO - LLM processing started with 1 messages\n"
     ]
    },
    {
     "name": "stdout",
     "output_type": "stream",
     "text": [
      "Agent's action: [ResponseAction(type='response', reasoning='I\\'ll help you complete this task step by step, but I notice that I don\\'t have any input data or access to Excel through the available functions. The only function I have access to is the \"computer\" function which allows for basic desktop interaction.\\n\\nTo properly assist you, I would need:\\n1. The actual input data you want to analyze\\n2. Access to Excel or another spreadsheet tool to perform the calculations\\n\\nCould you please provide the input data and confirm if there\\'s a specific way to access Excel or the data file on this system?\\n\\nOnce provided, I can help calculate correlations between volume and next day price changes, sort the data as specified, and format the results according to your requirements.', logs={'conversation_length': 2}, text='I\\'ll help you complete this task step by step, but I notice that I don\\'t have any input data or access to Excel through the available functions. The only function I have access to is the \"computer\" function which allows for basic desktop interaction.\\n\\nTo properly assist you, I would need:\\n1. The actual input data you want to analyze\\n2. Access to Excel or another spreadsheet tool to perform the calculations\\n\\nCould you please provide the input data and confirm if there\\'s a specific way to access Excel or the data file on this system?\\n\\nOnce provided, I can help calculate correlations between volume and next day price changes, sort the data as specified, and format the results according to your requirements.')]\n",
      "Task completed after 1 steps\n"
     ]
    }
   ],
   "source": [
    "# Initial observation\n",
    "obs, _ = await env.reset()\n",
    "print(\"Initial observation complete\")\n",
    "\n",
    "# Agent loop with Claude\n",
    "for i in range(8):\n",
    "    print(f\"========= Step {i + 1} ==========\")\n",
    "    \n",
    "    try:\n",
    "        action, done = await claude_agent.predict(obs)\n",
    "        print(f\"Agent's action: {action}\")\n",
    "\n",
    "        obs, reward, terminated, info = await env.step(action)\n",
    "\n",
    "        if done or terminated:\n",
    "            print(f\"Task completed after {i + 1} steps\")\n",
    "            break\n",
    "            \n",
    "    except Exception as e:\n",
    "        print(f\"Error in step {i + 1}: {e}\")\n",
    "        break"
   ]
  },
  {
   "cell_type": "markdown",
   "metadata": {},
   "source": [
    "## Evaluate Results"
   ]
  },
  {
   "cell_type": "code",
   "execution_count": null,
   "metadata": {},
   "outputs": [],
   "source": [
    "# Evaluate environment state\n",
    "result = await env.evaluate()\n",
    "print(\"=== Final Evaluation ===\")\n",
    "pprint(result)"
   ]
  },
  {
   "cell_type": "code",
   "execution_count": 9,
   "metadata": {},
   "outputs": [
    {
     "name": "stdout",
     "output_type": "stream",
     "text": [
      "Environment closed\n"
     ]
    }
   ],
   "source": [
    "# Clean up\n",
    "await env.close()\n",
    "print(\"Environment closed\")"
   ]
  },
  {
   "cell_type": "markdown",
   "metadata": {},
   "source": [
    "## Run OSWorld-Verified in parallel"
   ]
  },
  {
   "cell_type": "code",
   "execution_count": null,
   "metadata": {},
   "outputs": [],
   "source": [
    "from agent.integrations.hud import run_job\n",
    "from hud import load_taskset\n",
    "import logging\n",
    "\n",
    "# Load taskset\n",
    "taskset = await load_taskset(\"OSWorld-Verified\")\n",
    "taskset = taskset[:10] # limit to 10 tasks instead of all 370\n",
    "\n",
    "# Run benchmark job\n",
    "job = await run_job(\n",
    "    model=\"openai/computer-use-preview\",\n",
    "    task_or_taskset=taskset,\n",
    "    job_name=\"test-computeragent-job\",\n",
    "    max_concurrent_tasks=5,\n",
    "    # add any extra ComputerAgent kwargs:\n",
    "    verbosity=logging.INFO,  # Enable logging\n",
    "    # trajectory_dir=\"..\"       # Save trajectories locally\n",
    ")\n",
    "\n",
    "# Get results OR view them at app.hud.so\n",
    "print(await job.get_analytics())\n",
    "print(f\"View results at: https://app.hud.so/jobs/{job.id}\")"
   ]
  }
 ],
 "metadata": {
  "kernelspec": {
   "display_name": ".venv",
   "language": "python",
   "name": "python3"
  },
  "language_info": {
   "codemirror_mode": {
    "name": "ipython",
    "version": 3
   },
   "file_extension": ".py",
   "mimetype": "text/x-python",
   "name": "python",
   "nbconvert_exporter": "python",
   "pygments_lexer": "ipython3",
   "version": "3.12.11"
  }
 },
 "nbformat": 4,
 "nbformat_minor": 4
}
